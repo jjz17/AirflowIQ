{
 "cells": [
  {
   "cell_type": "code",
   "execution_count": 1,
   "metadata": {},
   "outputs": [],
   "source": [
    "import pandas as pd\n",
    "import numpy as np"
   ]
  },
  {
   "cell_type": "markdown",
   "metadata": {},
   "source": [
    " \"id\": 550,\n",
    "      \"city\": \"Phoenix-Mesa-Scottsdale\",\n",
    "      \"name\": \"Glendale Community C\",\n",
    "      \"entity\": null,\n",
    "      \"country\": \"US\",\n",
    "      \"sources\": null,\n",
    "      \"isMobile\": false,\n",
    "      \"isAnalysis\": null,"
   ]
  },
  {
   "cell_type": "code",
   "execution_count": 8,
   "metadata": {},
   "outputs": [
    {
     "data": {
      "text/plain": [
       "{'meta': {'name': 'openaq-api',\n",
       "  'license': '',\n",
       "  'website': '/',\n",
       "  'page': 1,\n",
       "  'limit': 100,\n",
       "  'found': 1},\n",
       " 'results': [{'id': 550,\n",
       "   'city': 'Phoenix-Mesa-Scottsdale',\n",
       "   'name': 'Glendale Community C',\n",
       "   'entity': None,\n",
       "   'country': 'US',\n",
       "   'sources': None,\n",
       "   'isMobile': False,\n",
       "   'isAnalysis': None,\n",
       "   'parameters': [{'id': 2,\n",
       "     'unit': 'µg/m³',\n",
       "     'count': 51514,\n",
       "     'average': 6.822928942807616,\n",
       "     'lastValue': 4.7,\n",
       "     'parameter': 'pm25',\n",
       "     'displayName': 'pm25 µg/m³',\n",
       "     'lastUpdated': '2024-03-16T12:00:00+00:00',\n",
       "     'parameterId': 2,\n",
       "     'firstUpdated': '2016-03-10T07:00:00+00:00',\n",
       "     'manufacturers': None},\n",
       "    {'id': 1,\n",
       "     'unit': 'µg/m³',\n",
       "     'count': 51537,\n",
       "     'average': 20.395522161834396,\n",
       "     'lastValue': 5.0,\n",
       "     'parameter': 'pm10',\n",
       "     'displayName': 'pm10 µg/m³',\n",
       "     'lastUpdated': '2024-03-16T12:00:00+00:00',\n",
       "     'parameterId': 1,\n",
       "     'firstUpdated': '2016-03-10T07:00:00+00:00',\n",
       "     'manufacturers': None},\n",
       "    {'id': 10,\n",
       "     'unit': 'ppm',\n",
       "     'count': 51270,\n",
       "     'average': 0.03074935699027754,\n",
       "     'lastValue': 0.011,\n",
       "     'parameter': 'o3',\n",
       "     'displayName': 'o3 ppm',\n",
       "     'lastUpdated': '2024-03-16T12:00:00+00:00',\n",
       "     'parameterId': 10,\n",
       "     'firstUpdated': '2016-03-10T07:00:00+00:00',\n",
       "     'manufacturers': None}],\n",
       "   'sensorType': None,\n",
       "   'coordinates': {'latitude': 33.5694, 'longitude': -112.1915},\n",
       "   'lastUpdated': '2024-03-16T12:00:00+00:00',\n",
       "   'firstUpdated': '2016-03-10T07:00:00+00:00',\n",
       "   'measurements': 154321,\n",
       "   'bounds': [-112.1915, 33.5694, -112.1915, 33.5694],\n",
       "   'manufacturers': [{'modelName': 'Government Monitor',\n",
       "     'manufacturerName': 'Unknown Governmental Organization'}]}]}"
      ]
     },
     "execution_count": 8,
     "metadata": {},
     "output_type": "execute_result"
    }
   ],
   "source": [
    "import requests\n",
    "from dotenv import load_dotenv, dotenv_values\n",
    "\n",
    "load_dotenv()\n",
    "\n",
    "url_v2 = \"https://api.openaq.org/v2/locations/550\"\n",
    "headers = {\"accept\": \"application/json\", \"X-API-Key\": dotenv_values()[\"OPENAQ_API_KEY\"]}\n",
    "\n",
    "# dotenv_values()[\"OPENAQ_API_KEY\"]\n",
    "res = requests.get(url_v2, headers=headers)\n",
    "res.json()\n"
   ]
  },
  {
   "cell_type": "code",
   "execution_count": 7,
   "metadata": {},
   "outputs": [
    {
     "data": {
      "text/plain": [
       "{'meta': {'name': 'openaq-api',\n",
       "  'license': '',\n",
       "  'website': '/',\n",
       "  'page': 1,\n",
       "  'limit': 100,\n",
       "  'found': 1},\n",
       " 'results': [{'location': 'Glendale Community C',\n",
       "   'city': 'Phoenix-Mesa-Scottsdale',\n",
       "   'country': 'US',\n",
       "   'coordinates': {'latitude': 33.5694, 'longitude': -112.1915},\n",
       "   'measurements': [{'parameter': 'pm25',\n",
       "     'value': 4.7,\n",
       "     'lastUpdated': '2024-03-16T12:00:00+00:00',\n",
       "     'unit': 'µg/m³',\n",
       "     'sourceName': 'AirNow',\n",
       "     'averagingPeriod': {'value': 3600, 'unit': 'seconds'}},\n",
       "    {'parameter': 'o3',\n",
       "     'value': 0.011,\n",
       "     'lastUpdated': '2024-03-16T12:00:00+00:00',\n",
       "     'unit': 'ppm',\n",
       "     'sourceName': 'AirNow',\n",
       "     'averagingPeriod': {'value': 3600, 'unit': 'seconds'}},\n",
       "    {'parameter': 'pm10',\n",
       "     'value': 5.0,\n",
       "     'lastUpdated': '2024-03-16T12:00:00+00:00',\n",
       "     'unit': 'µg/m³',\n",
       "     'sourceName': 'AirNow',\n",
       "     'averagingPeriod': {'value': 3600, 'unit': 'seconds'}}]}]}"
      ]
     },
     "execution_count": 7,
     "metadata": {},
     "output_type": "execute_result"
    }
   ],
   "source": [
    "url_v1 = \"https://api.openaq.org/v1/latest/550?limit=100&page=1&offset=0&sort=asc\"\n",
    "headers = {\"accept\": \"application/json\", \"X-API-Key\": dotenv_values()[\"OPENAQ_API_KEY\"]}\n",
    "\n",
    "# dotenv_values()[\"OPENAQ_API_KEY\"]\n",
    "res = requests.get(url_v1, headers=headers)\n",
    "res.json()"
   ]
  }
 ],
 "metadata": {
  "kernelspec": {
   "display_name": ".venv",
   "language": "python",
   "name": "python3"
  },
  "language_info": {
   "codemirror_mode": {
    "name": "ipython",
    "version": 3
   },
   "file_extension": ".py",
   "mimetype": "text/x-python",
   "name": "python",
   "nbconvert_exporter": "python",
   "pygments_lexer": "ipython3",
   "version": "3.9.6"
  }
 },
 "nbformat": 4,
 "nbformat_minor": 2
}
