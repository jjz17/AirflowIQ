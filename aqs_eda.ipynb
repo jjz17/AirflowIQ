{
 "cells": [
  {
   "cell_type": "code",
   "execution_count": 5,
   "metadata": {},
   "outputs": [],
   "source": [
    "import pandas as pd\n",
    "import numpy as np\n",
    "import requests\n",
    "import json"
   ]
  },
  {
   "cell_type": "code",
   "execution_count": 19,
   "metadata": {},
   "outputs": [],
   "source": [
    "# Utility function to flatten AQS dict structure and use state names as keys and index as values\n",
    "def process_aqs_dict(d_list):\n",
    "    return {d[\"value_represented\"]: d[\"code\"] for d in d_list}"
   ]
  },
  {
   "cell_type": "code",
   "execution_count": 15,
   "metadata": {},
   "outputs": [
    {
     "data": {
      "text/plain": [
       "{'Alabama': '01',\n",
       " 'Alaska': '02',\n",
       " 'Arizona': '04',\n",
       " 'Arkansas': '05',\n",
       " 'California': '06',\n",
       " 'Colorado': '08',\n",
       " 'Connecticut': '09',\n",
       " 'Delaware': '10',\n",
       " 'District Of Columbia': '11',\n",
       " 'Florida': '12',\n",
       " 'Georgia': '13',\n",
       " 'Hawaii': '15',\n",
       " 'Idaho': '16',\n",
       " 'Illinois': '17',\n",
       " 'Indiana': '18',\n",
       " 'Iowa': '19',\n",
       " 'Kansas': '20',\n",
       " 'Kentucky': '21',\n",
       " 'Louisiana': '22',\n",
       " 'Maine': '23',\n",
       " 'Maryland': '24',\n",
       " 'Massachusetts': '25',\n",
       " 'Michigan': '26',\n",
       " 'Minnesota': '27',\n",
       " 'Mississippi': '28',\n",
       " 'Missouri': '29',\n",
       " 'Montana': '30',\n",
       " 'Nebraska': '31',\n",
       " 'Nevada': '32',\n",
       " 'New Hampshire': '33',\n",
       " 'New Jersey': '34',\n",
       " 'New Mexico': '35',\n",
       " 'New York': '36',\n",
       " 'North Carolina': '37',\n",
       " 'North Dakota': '38',\n",
       " 'Ohio': '39',\n",
       " 'Oklahoma': '40',\n",
       " 'Oregon': '41',\n",
       " 'Pennsylvania': '42',\n",
       " 'Rhode Island': '44',\n",
       " 'South Carolina': '45',\n",
       " 'South Dakota': '46',\n",
       " 'Tennessee': '47',\n",
       " 'Texas': '48',\n",
       " 'Utah': '49',\n",
       " 'Vermont': '50',\n",
       " 'Virginia': '51',\n",
       " 'Washington': '53',\n",
       " 'West Virginia': '54',\n",
       " 'Wisconsin': '55',\n",
       " 'Wyoming': '56',\n",
       " 'Guam': '66',\n",
       " 'Puerto Rico': '72',\n",
       " 'Virgin Islands': '78',\n",
       " 'Country Of Mexico': '80',\n",
       " 'Canada': 'CC'}"
      ]
     },
     "execution_count": 15,
     "metadata": {},
     "output_type": "execute_result"
    }
   ],
   "source": [
    "states = requests.get(\"https://aqs.epa.gov/data/api/list/states?email=test@aqs.api&key=test\")\n",
    "states_data = states.json()[\"Data\"]\n",
    "states_data = process_aqs_dict(states_data)\n",
    "states_data"
   ]
  },
  {
   "cell_type": "code",
   "execution_count": 27,
   "metadata": {},
   "outputs": [
    {
     "data": {
      "text/plain": [
       "{'Barnstable': '001',\n",
       " 'Berkshire': '003',\n",
       " 'Bristol': '005',\n",
       " 'Dukes': '007',\n",
       " 'Essex': '009',\n",
       " 'Franklin': '011',\n",
       " 'Hampden': '013',\n",
       " 'Hampshire': '015',\n",
       " 'Middlesex': '017',\n",
       " 'Nantucket': '019',\n",
       " 'Norfolk': '021',\n",
       " 'Plymouth': '023',\n",
       " 'Suffolk': '025',\n",
       " 'Worcester': '027'}"
      ]
     },
     "execution_count": 27,
     "metadata": {},
     "output_type": "execute_result"
    }
   ],
   "source": [
    "MA_code = states_data['Massachusetts']\n",
    "MA_counties = requests.get(f\"https://aqs.epa.gov/data/api/list/countiesByState?email=test@aqs.api&key=test&state={MA_code}\")\n",
    "MA_counties_data = MA_counties.json()[\"Data\"]\n",
    "MA_counties_data = process_aqs_dict(MA_counties_data)\n",
    "MA_counties_data"
   ]
  },
  {
   "cell_type": "code",
   "execution_count": 29,
   "metadata": {},
   "outputs": [
    {
     "data": {
      "text/plain": [
       "{None: '2002',\n",
       " 'BOSTON KENMORE SQ': '0002',\n",
       " 'BOSTON CITY SQUARE': '0027',\n",
       " '531A EAST FIRST STREET': '0040',\n",
       " 'BOSTON LONG ISLAND': '0041',\n",
       " 'DUDLEY SQUARE ROXBURY': '0042',\n",
       " 'NORTH END SITE CENTRAL ARTERY': '0043',\n",
       " 'VON HILLERN ST': '0044',\n",
       " 'Chinatown': '0045'}"
      ]
     },
     "execution_count": 29,
     "metadata": {},
     "output_type": "execute_result"
    }
   ],
   "source": [
    "# Boston is in Suffolk County\n",
    "Suffolk_code = MA_counties_data[\"Suffolk\"]\n",
    "Suffolk_sites = requests.get(f\"https://aqs.epa.gov/data/api/list/sitesByCounty?email=test@aqs.api&key=test&state={MA_code}&county={Suffolk_code}\")\n",
    "Suffolk_sites_data = Suffolk_sites.json()[\"Data\"]\n",
    "Suffolk_sites_data = process_aqs_dict(Suffolk_sites_data)\n",
    "Suffolk_sites_data"
   ]
  },
  {
   "cell_type": "code",
   "execution_count": 30,
   "metadata": {},
   "outputs": [
    {
     "data": {
      "text/plain": [
       "{'Header': [{'status': 'Success',\n",
       "   'request_time': '2024-04-30T00:34:05-04:00',\n",
       "   'url': 'https://aqs.epa.gov/data/api/list/classes?email=test@aqs.api&key=test',\n",
       "   'rows': 27}],\n",
       " 'Data': [{'code': 'AIRNOW MAPS',\n",
       "   'value_represented': 'The parameters represented on AirNow maps (88101, 88502, and 44201)'},\n",
       "  {'code': 'ALL', 'value_represented': 'Select all Parameters Available'},\n",
       "  {'code': 'AQI POLLUTANTS',\n",
       "   'value_represented': 'Pollutants that have an AQI Defined'},\n",
       "  {'code': 'CORE_HAPS', 'value_represented': 'Urban Air Toxic Pollutants'},\n",
       "  {'code': 'CRITERIA', 'value_represented': 'Criteria Pollutants'},\n",
       "  {'code': 'CSN DART',\n",
       "   'value_represented': 'List of CSN speciation parameters to populate the STI DART tool'},\n",
       "  {'code': 'FORECAST',\n",
       "   'value_represented': 'Parameters routinely extracted by AirNow (STI)'},\n",
       "  {'code': 'HAPS', 'value_represented': 'Hazardous Air Pollutants'},\n",
       "  {'code': 'IMPROVE CARBON', 'value_represented': 'IMPROVE Carbon Parameters'},\n",
       "  {'code': 'IMPROVE_SPECIATION',\n",
       "   'value_represented': 'PM2.5 Speciated Parameters Measured at IMPROVE sites'},\n",
       "  {'code': 'MET', 'value_represented': 'Meteorological Parameters'},\n",
       "  {'code': 'NATTS CORE HAPS',\n",
       "   'value_represented': 'The core list of toxics of interest to the NATTS program.'},\n",
       "  {'code': 'NATTS REQUIRED',\n",
       "   'value_represented': 'Required compounds to be collected in the National Air Toxics Network'},\n",
       "  {'code': 'PAMS',\n",
       "   'value_represented': 'Photochemical Assessment Monitoring System'},\n",
       "  {'code': 'PAMS_VOC',\n",
       "   'value_represented': 'Volatile Organic Compound subset of the PAMS Parameters'},\n",
       "  {'code': 'PM COARSE',\n",
       "   'value_represented': 'PM between 2.5 and 10 micrometers'},\n",
       "  {'code': 'PM10 SPECIATION',\n",
       "   'value_represented': 'PM10 Speciated Parameters'},\n",
       "  {'code': 'PM2.5 CONT NONREF',\n",
       "   'value_represented': 'PM2.5 Continuous, Nonreference Methods'},\n",
       "  {'code': 'PM2.5 MASS/QA',\n",
       "   'value_represented': 'PM2.5 Mass and QA Parameters'},\n",
       "  {'code': 'SCHOOL AIR TOXICS',\n",
       "   'value_represented': 'School Air Toxics Program Parameters'},\n",
       "  {'code': 'SPECIATION', 'value_represented': 'PM2.5 Speciated Parameters'},\n",
       "  {'code': 'SPECIATION CARBON',\n",
       "   'value_represented': 'PM2.5 Speciation Carbon Parameters'},\n",
       "  {'code': 'SPECIATION CATION/ANION',\n",
       "   'value_represented': 'PM2.5 Speciation Cation/Anion Parameters'},\n",
       "  {'code': 'SPECIATION METALS',\n",
       "   'value_represented': 'PM2.5 Speciation Metal Parameters'},\n",
       "  {'code': 'UATMP CARBONYL',\n",
       "   'value_represented': 'Urban Air Toxics Monitoring Program Carbonyls'},\n",
       "  {'code': 'UATMP VOC',\n",
       "   'value_represented': 'Urban Air Toxics Monitoring Program VOCs'},\n",
       "  {'code': 'VOC', 'value_represented': 'Volatile organic compounds'}]}"
      ]
     },
     "execution_count": 30,
     "metadata": {},
     "output_type": "execute_result"
    }
   ],
   "source": [
    "requests.get(\"https://aqs.epa.gov/data/api/list/classes?email=test@aqs.api&key=test\").json()"
   ]
  },
  {
   "cell_type": "markdown",
   "metadata": {},
   "source": [
    "## EDA on county level data"
   ]
  },
  {
   "cell_type": "code",
   "execution_count": 36,
   "metadata": {},
   "outputs": [
    {
     "data": {
      "text/plain": [
       "2274"
      ]
     },
     "execution_count": 36,
     "metadata": {},
     "output_type": "execute_result"
    }
   ],
   "source": [
    "suffolk_data = requests.get(f\"https://aqs.epa.gov/data/api/dailyData/byCounty?email=test@aqs.api&key=test&param=88101&bdate=20160101&edate=20160229&state={MA_code}&county={Suffolk_code}\").json()[\"Data\"]\n",
    "len(suffolk_data)"
   ]
  },
  {
   "cell_type": "code",
   "execution_count": 37,
   "metadata": {},
   "outputs": [
    {
     "data": {
      "text/plain": [
       "{'state_code': '25',\n",
       " 'county_code': '025',\n",
       " 'site_number': '0043',\n",
       " 'parameter_code': '88101',\n",
       " 'poc': 1,\n",
       " 'latitude': 42.3631,\n",
       " 'longitude': -71.0543,\n",
       " 'datum': 'WGS84',\n",
       " 'parameter': 'PM2.5 - Local Conditions',\n",
       " 'sample_duration_code': '7',\n",
       " 'sample_duration': '24 HOUR',\n",
       " 'pollutant_standard': 'PM25 24-hour 2006',\n",
       " 'date_local': '2016-01-01',\n",
       " 'units_of_measure': 'Micrograms/cubic meter (LC)',\n",
       " 'event_type': 'No Events',\n",
       " 'observation_count': 1,\n",
       " 'observation_percent': 100.0,\n",
       " 'validity_indicator': 'Y',\n",
       " 'arithmetic_mean': 3.0,\n",
       " 'first_max_value': 3.0,\n",
       " 'first_max_hour': 0,\n",
       " 'aqi': 13,\n",
       " 'method_code': '145',\n",
       " 'method': 'R & P Model 2025 PM-2.5 Sequential Air Sampler w/VSCC - Gravimetric',\n",
       " 'local_site_name': 'NORTH END SITE CENTRAL ARTERY',\n",
       " 'site_address': '174 NORTH ST',\n",
       " 'state': 'Massachusetts',\n",
       " 'county': 'Suffolk',\n",
       " 'city': 'Boston',\n",
       " 'cbsa_code': '14460',\n",
       " 'cbsa': 'Boston-Cambridge-Newton, MA-NH',\n",
       " 'date_of_last_change': '2021-11-08'}"
      ]
     },
     "execution_count": 37,
     "metadata": {},
     "output_type": "execute_result"
    }
   ],
   "source": [
    "suffolk_data[0]"
   ]
  },
  {
   "cell_type": "markdown",
   "metadata": {},
   "source": [
    "## Pulling site specific data"
   ]
  },
  {
   "cell_type": "code",
   "execution_count": 33,
   "metadata": {},
   "outputs": [
    {
     "data": {
      "text/plain": [
       "{'Header': [{'status': 'No data matched your selection',\n",
       "   'request_time': '2024-04-30T00:36:04-04:00',\n",
       "   'url': 'https://aqs.epa.gov/data/api/dailyData/bySite?email=test@aqs.api&key=test&param=44201&bdate=20230618&edate=20230618&state=25&county=025&site=0002',\n",
       "   'rows': 0}],\n",
       " 'Data': []}"
      ]
     },
     "execution_count": 33,
     "metadata": {},
     "output_type": "execute_result"
    }
   ],
   "source": [
    "Kenmore_code = Suffolk_sites_data[\"BOSTON KENMORE SQ\"]\n",
    "daily_data = requests.get(f\"https://aqs.epa.gov/data/api/dailyData/bySite?email=test@aqs.api&key=test&param=44201&bdate=20230618&edate=20230618&state={MA_code}&county={Suffolk_code}&site={Kenmore_code}\")\n",
    "daily_data.json()"
   ]
  }
 ],
 "metadata": {
  "kernelspec": {
   "display_name": ".venv",
   "language": "python",
   "name": "python3"
  },
  "language_info": {
   "codemirror_mode": {
    "name": "ipython",
    "version": 3
   },
   "file_extension": ".py",
   "mimetype": "text/x-python",
   "name": "python",
   "nbconvert_exporter": "python",
   "pygments_lexer": "ipython3",
   "version": "3.9.6"
  }
 },
 "nbformat": 4,
 "nbformat_minor": 2
}
